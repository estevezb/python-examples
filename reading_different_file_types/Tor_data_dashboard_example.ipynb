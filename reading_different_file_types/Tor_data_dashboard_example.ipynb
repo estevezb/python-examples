{
 "cells": [
  {
   "cell_type": "code",
   "execution_count": 1,
   "metadata": {},
   "outputs": [
    {
     "ename": "ModuleNotFoundError",
     "evalue": "No module named 'itables'",
     "output_type": "error",
     "traceback": [
      "\u001b[1;31m---------------------------------------------------------------------------\u001b[0m",
      "\u001b[1;31mModuleNotFoundError\u001b[0m                       Traceback (most recent call last)",
      "Cell \u001b[1;32mIn[1], line 5\u001b[0m\n\u001b[0;32m      1\u001b[0m \u001b[38;5;28;01mimport\u001b[39;00m \u001b[38;5;21;01mpandas\u001b[39;00m \u001b[38;5;28;01mas\u001b[39;00m \u001b[38;5;21;01mpd\u001b[39;00m\n\u001b[0;32m      3\u001b[0m \u001b[38;5;28;01mimport\u001b[39;00m \u001b[38;5;21;01mnumpy\u001b[39;00m \u001b[38;5;28;01mas\u001b[39;00m \u001b[38;5;21;01mnp\u001b[39;00m\n\u001b[1;32m----> 5\u001b[0m \u001b[38;5;28;01mimport\u001b[39;00m \u001b[38;5;21;01mitables\u001b[39;00m \n\u001b[0;32m      7\u001b[0m \u001b[38;5;28;01mimport\u001b[39;00m \u001b[38;5;21;01mpanel\u001b[39;00m \u001b[38;5;28;01mas\u001b[39;00m \u001b[38;5;21;01mpn\u001b[39;00m\n\u001b[0;32m      9\u001b[0m \u001b[38;5;28;01mimport\u001b[39;00m \u001b[38;5;21;01mhvplot\u001b[39;00m\u001b[38;5;21;01m.\u001b[39;00m\u001b[38;5;21;01mpandas\u001b[39;00m\n",
      "\u001b[1;31mModuleNotFoundError\u001b[0m: No module named 'itables'"
     ]
    }
   ],
   "source": [
    "import pandas as pd\n",
    "\n",
    "import numpy as np\n",
    "\n",
    "import itables \n",
    "\n",
    "import panel as pn\n",
    "\n",
    "import hvplot.pandas\n",
    "\n",
    "import matplotlib.pyplot as plt\n",
    "import cartopy.crs as ccrs\n",
    "\n",
    "import cartopy.feature\n",
    "import panel as pn\n"
   ]
  },
  {
   "cell_type": "code",
   "execution_count": null,
   "metadata": {},
   "outputs": [],
   "source": [
    "import os\n",
    "\n",
    "os.getcwd()"
   ]
  },
  {
   "cell_type": "code",
   "execution_count": null,
   "metadata": {},
   "outputs": [],
   "source": [
    "tp_data =pd.read_csv(r\"C:\\Users\\beste\\OneDrive - Qral Group\\Desktop\\python\\FuzzyMatch\\playground\\1950-2022_actual_tornadoes (2).csv\")\n",
    "\n",
    "itables.show(tp_data)"
   ]
  },
  {
   "cell_type": "code",
   "execution_count": null,
   "metadata": {},
   "outputs": [],
   "source": [
    "# Load the Panel extension\n",
    "pn.extension()\n",
    "\n",
    "\n",
    "# Create a DataFrame widget\n",
    "df_widget = pn.widgets.DataFrame(tp_data, name='Tornado Data',  width=1200)\n",
    "\n",
    "\n",
    "\n",
    "# Create a Panel with the DataFrame widget\n",
    "dashboard = pn.Column(\"# Tornado Data Dashboard\", df_widget)\n",
    "\n",
    "\n",
    "# Create a dropdown widget\n",
    "columns = list(tp_data.columns)\n",
    "dropdown = pn.widgets.Select(name='Select column', options=columns)\n",
    "\n",
    "# Create a plot and wrap it in a HoloViews pane\n",
    "plot = tp_data.hvplot.scatter(y=columns[0])\n",
    "plot_pane = pn.pane.HoloViews(plot,  width=800, height=600)\n",
    "\n",
    "\n",
    "# Update the plot when the dropdown value changes\n",
    "def update_plot(event):\n",
    "    # tp_data['Final SFDC ID'] = tp_data['Final SFDC ID'].astype(str)\n",
    "    # tp_data['Final MDM ID'] = tp_data['Final MDM ID'].astype(str)\n",
    "    plot = tp_data.hvplot.line(y=dropdown.value)\n",
    "    plot_pane.object = plot\n",
    "\n",
    "dropdown.param.watch(update_plot, 'value')\n",
    "\n",
    "# Create a second dropdown widget\n",
    "dropdown2 = pn.widgets.Select(name='Select column for second plot', options=columns)\n",
    "\n",
    "# Create a second plot and wrap it in a HoloViews pane\n",
    "plot2 = tp_data.hvplot.scatter(y=columns[0])\n",
    "plot_pane2 = pn.pane.HoloViews(plot2, width=800, height=600)\n",
    "\n",
    "# Update the second plot when the second dropdown value changes\n",
    "def update_plot2(event):\n",
    "    # tp_data['Final SFDC ID'] = tp_data['Final SFDC ID'].astype(str)\n",
    "    # tp_data['Final MDM ID'] = tp_data['Final MDM ID'].astype(str)\n",
    "    plot2 = tp_data.hvplot.line(y=dropdown2.value)\n",
    "    plot_pane2.object = plot2\n",
    "\n",
    "dropdown2.param.watch(update_plot2, 'value')\n",
    "\n",
    "# Add the second dropdown and plot to the dashboard\n",
    "dashboard = pn.Column(\"# Tornado Data Dashboard\", dropdown, df_widget, plot_pane, dropdown2, plot_pane2)\n",
    "\n",
    "# Display the dashboard in the notebook\n",
    "dashboard\n",
    "\n",
    "\n",
    "\n",
    "\n",
    "###=======================================================other dashboard vieweing and sharing options\n",
    "\n",
    "\n",
    "# dashboard.servable() panel creates a Bokeh application from your Panel object that can be served by a Bokeh server \n",
    "# This allows you to share your dashboard as a web app that can be accessed from a browser\n",
    "# serving a Panel app requires a running Python serve\n",
    "# dashboard.servable()\n",
    "#For full interactivity, you can serve the dashboard as a standalone app \n",
    "#requires a running Python server\n",
    "# dashboard.show() \n"
   ]
  },
  {
   "cell_type": "code",
   "execution_count": null,
   "metadata": {},
   "outputs": [],
   "source": [
    "\n",
    "# Create a new figure\n",
    "fig = plt.figure(figsize=(10, 5))\n",
    "\n",
    "# Create a GeoAxes in the tile's projection\n",
    "ax = fig.add_subplot(1, 1, 1, projection=ccrs.PlateCarree())\n",
    "\n",
    "# Add some various map elements to the plot to give it context\n",
    "ax.add_feature(cartopy.feature.LAND)\n",
    "ax.add_feature(cartopy.feature.OCEAN)\n",
    "ax.add_feature(cartopy.feature.COASTLINE)\n",
    "ax.add_feature(cartopy.feature.BORDERS, linestyle=':')\n",
    "\n",
    "# Make a scatter plot on the map\n",
    "scatter = ax.scatter(tp_data['slon'], tp_data['slat'], transform=ccrs.PlateCarree(), color='red')\n",
    "\n",
    "# Create a Matplotlib pane\n",
    "geo_panel = pn.pane.Matplotlib(fig, width=800, height=600)\n",
    "\n",
    "# Add the geographical panel to the dashboard\n",
    "dashboard = pn.Column(\"# Tornado Data Dashboard\", dropdown, df_widget, plot_pane, dropdown2, plot_pane2, geo_panel)\n",
    "\n",
    "# Display the dashboard in the notebook\n",
    "dashboard"
   ]
  },
  {
   "cell_type": "code",
   "execution_count": null,
   "metadata": {},
   "outputs": [],
   "source": [
    "import sys\n",
    "print(sys.executable)"
   ]
  }
 ],
 "metadata": {
  "kernelspec": {
   "display_name": "dedupe-examples",
   "language": "python",
   "name": "python3"
  },
  "language_info": {
   "codemirror_mode": {
    "name": "ipython",
    "version": 3
   },
   "file_extension": ".py",
   "mimetype": "text/x-python",
   "name": "python",
   "nbconvert_exporter": "python",
   "pygments_lexer": "ipython3",
   "version": "3.8.10"
  }
 },
 "nbformat": 4,
 "nbformat_minor": 2
}
